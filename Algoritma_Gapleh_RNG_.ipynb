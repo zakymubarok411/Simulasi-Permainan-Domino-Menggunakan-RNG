{
  "nbformat": 4,
  "nbformat_minor": 0,
  "metadata": {
    "colab": {
      "provenance": []
    },
    "kernelspec": {
      "name": "python3",
      "display_name": "Python 3"
    },
    "language_info": {
      "name": "python"
    }
  },
  "cells": [
    {
      "cell_type": "markdown",
      "source": [
        "1.Parameter"
      ],
      "metadata": {
        "id": "VXYx1aae267_"
      }
    },
    {
      "cell_type": "code",
      "execution_count": 18,
      "metadata": {
        "id": "hqUVcu-rxBIH"
      },
      "outputs": [],
      "source": [
        "a = 1664525     # Konstanta pengali\n",
        "m = 2**32       # Modulus\n",
        "Z0 = 12345      # Seed (bilangan awal)\n",
        "n = 20          # Jumlah bilangan acak yang akan dihasilkan"
      ]
    },
    {
      "cell_type": "markdown",
      "source": [
        "Parameter ini menentukan perilaku generator bilangan acak:\n",
        "\n",
        "𝑎: Konstanta pengali menentukan skala\n",
        "perhitungan.\n",
        "\n",
        "𝑚: Modulus memastikan hasil tetap dalam batas tertentu (0 hingga 𝑚 − 1).\n",
        "\n",
        "Z0: Nilai awal yang digunakan untuk memulai penghitungan.\n",
        "\n",
        "𝑛: Jumlah iterasi yang diinginkan."
      ],
      "metadata": {
        "id": "WlYCiQ2mxDdY"
      }
    },
    {
      "cell_type": "markdown",
      "source": [
        "2.Inisialisasi Daftar"
      ],
      "metadata": {
        "id": "IOkchtoz3GlZ"
      }
    },
    {
      "cell_type": "code",
      "source": [
        "# 3. Menjalankan simulasi\n",
        "results = rng_algorithm(a, m, Z0, n)\n"
      ],
      "metadata": {
        "id": "tshW9FY128TZ"
      },
      "execution_count": 19,
      "outputs": []
    },
    {
      "cell_type": "markdown",
      "source": [
        "\n",
        "\n",
        "*   Baris ini mendeklarasikan sebuah list kosong bernama results.\n",
        "*   List ini nantinya akan digunakan untuk menyimpan semua data hasil perhitungan dari algoritma random number generator (RNG) di setiap iterasi.\n",
        "\n"
      ],
      "metadata": {
        "id": "sJCr6YVb3Nm8"
      }
    },
    {
      "cell_type": "markdown",
      "source": [
        "3.Algoritma RNG"
      ],
      "metadata": {
        "id": "ROpP9T8-3Rus"
      }
    },
    {
      "cell_type": "code",
      "source": [
        "# 2. Algoritma RNG\n",
        "def rng_algorithm(a, m, Z0, n):\n",
        "    Z = Z0            # Bilangan awal\n",
        "    results = []      # Untuk menyimpan hasil\n",
        "\n",
        "    for i in range(1, n + 1):\n",
        "        Z_prev = Z                          # Menyimpan bilangan sebelumnya\n",
        "        Z = (a * Z) % m                     # Menghitung bilangan acak selanjutnya\n",
        "        U = Z / m                           # Menghitung bilangan acak seragam\n",
        "        rumus = f\"(5 * {Z_prev}) mod {m}\"   # Rumus yang digunakan\n",
        "        results.append([i, Z_prev, rumus, Z, round(U, 3)])  # Menyimpan hasil\n",
        "\n",
        "    return results\n"
      ],
      "metadata": {
        "id": "B_g1n_NG3Q7V"
      },
      "execution_count": 20,
      "outputs": []
    },
    {
      "cell_type": "markdown",
      "source": [
        "\n",
        "\n",
        "*   Inisialisasi Bilangan Awal: Nilai awal\n",
        "𝑍 diambil dari Z0 (seed).\n",
        "*   Iterasi: Perulangan dilakukan 𝑛 kali untuk menghasilkan bilangan acak.\n",
        "\n",
        "*   Simpan Bilangan Sebelumnya: Variabel Z_prev menyimpan nilai 𝑍 sebelum diperbarui.\n",
        "*   Hitung Bilangan Acak (𝑍𝑖): Menggunakan rumus: 𝑍𝑖 = (𝑎⋅𝑍𝑖−1) mod 𝑚\n",
        "\n",
        "\n",
        "*   Hitung Bilangan Seragam (𝑈𝑖): Dengan membagi 𝑍𝑖 dengan 𝑚:𝑈𝑖 = 𝑍𝑖/𝑚\n",
        "*   Simpan Hasil ke Daftar results:\n",
        "Data per iterasi disimpan dalam list berisi:\n",
        "  1.   Indeks iterasi.\n",
        "  2.   Bilangan sebelumnya.\n",
        "  3.   Rumus perhitungan.\n",
        "  4.   Bilangan acak (𝑍𝑖).\n",
        "  5. Bilangan seragam (𝑈𝑖).\n",
        "\n",
        "\n",
        "\n",
        "\n",
        "\n",
        "\n"
      ],
      "metadata": {
        "id": "sOh-rwFI3iLB"
      }
    },
    {
      "cell_type": "markdown",
      "source": [
        "4.Output Hasil"
      ],
      "metadata": {
        "id": "b7-xYcmh3pYZ"
      }
    },
    {
      "cell_type": "code",
      "source": [
        "from tabulate import tabulate\n",
        "\n",
        "# Header untuk tabel\n",
        "headers = ['i', 'Z_prev', 'Rumus', 'Z', 'U']\n",
        "\n",
        "# Menampilkan hasil dalam bentuk tabel\n",
        "print(tabulate(results, headers=headers, tablefmt=\"fancy_grid\", stralign=\"left\"))\n",
        "\n"
      ],
      "metadata": {
        "colab": {
          "base_uri": "https://localhost:8080/"
        },
        "id": "P5CseKrP3rdt",
        "outputId": "5d3b2fcc-062c-4ee5-c67a-fc9b10e77305"
      },
      "execution_count": 22,
      "outputs": [
        {
          "output_type": "stream",
          "name": "stdout",
          "text": [
            "╒═════╤════════════╤═════════════════════════════════╤════════════╤═══════╕\n",
            "│   i │     Z_prev │ Rumus                           │          Z │     U │\n",
            "╞═════╪════════════╪═════════════════════════════════╪════════════╪═══════╡\n",
            "│   1 │      12345 │ (5 * 12345) mod 4294967296      │ 3368691941 │ 0.784 │\n",
            "├─────┼────────────┼─────────────────────────────────┼────────────┼───────┤\n",
            "│   2 │ 3368691941 │ (5 * 3368691941) mod 4294967296 │ 3169604001 │ 0.738 │\n",
            "├─────┼────────────┼─────────────────────────────────┼────────────┼───────┤\n",
            "│   3 │ 3169604001 │ (5 * 3169604001) mod 4294967296 │ 3107932973 │ 0.724 │\n",
            "├─────┼────────────┼─────────────────────────────────┼────────────┼───────┤\n",
            "│   4 │ 3107932973 │ (5 * 3107932973) mod 4294967296 │ 4153392969 │ 0.967 │\n",
            "├─────┼────────────┼─────────────────────────────────┼────────────┼───────┤\n",
            "│   5 │ 4153392969 │ (5 * 4153392969) mod 4294967296 │ 2258947253 │ 0.526 │\n",
            "├─────┼────────────┼─────────────────────────────────┼────────────┼───────┤\n",
            "│   6 │ 2258947253 │ (5 * 2258947253) mod 4294967296 │ 2107343665 │ 0.491 │\n",
            "├─────┼────────────┼─────────────────────────────────┼────────────┼───────┤\n",
            "│   7 │ 2107343665 │ (5 * 2107343665) mod 4294967296 │  653537149 │ 0.152 │\n",
            "├─────┼────────────┼─────────────────────────────────┼────────────┼───────┤\n",
            "│   8 │  653537149 │ (5 * 653537149) mod 4294967296  │ 3901175641 │ 0.908 │\n",
            "├─────┼────────────┼─────────────────────────────────┼────────────┼───────┤\n",
            "│   9 │ 3901175641 │ (5 * 3901175641) mod 4294967296 │  379340165 │ 0.088 │\n",
            "├─────┼────────────┼─────────────────────────────────┼────────────┼───────┤\n",
            "│  10 │  379340165 │ (5 * 379340165) mod 4294967296  │  866092481 │ 0.202 │\n",
            "├─────┼────────────┼─────────────────────────────────┼────────────┼───────┤\n",
            "│  11 │  866092481 │ (5 * 866092481) mod 4294967296  │ 1044230349 │ 0.243 │\n",
            "├─────┼────────────┼─────────────────────────────────┼────────────┼───────┤\n",
            "│  12 │ 1044230349 │ (5 * 1044230349) mod 4294967296 │   26781801 │ 0.006 │\n",
            "├─────┼────────────┼─────────────────────────────────┼────────────┼───────┤\n",
            "│  13 │   26781801 │ (5 * 26781801) mod 4294967296   │ 1511744341 │ 0.352 │\n",
            "├─────┼────────────┼─────────────────────────────────┼────────────┼───────┤\n",
            "│  14 │ 1511744341 │ (5 * 1511744341) mod 4294967296 │  809822545 │ 0.189 │\n",
            "├─────┼────────────┼─────────────────────────────────┼────────────┼───────┤\n",
            "│  15 │  809822545 │ (5 * 809822545) mod 4294967296  │ 2975801117 │ 0.693 │\n",
            "├─────┼────────────┼─────────────────────────────────┼────────────┼───────┤\n",
            "│  16 │ 2975801117 │ (5 * 2975801117) mod 4294967296 │ 4061078137 │ 0.946 │\n",
            "├─────┼────────────┼─────────────────────────────────┼────────────┼───────┤\n",
            "│  17 │ 4061078137 │ (5 * 4061078137) mod 4294967296 │ 2958161445 │ 0.689 │\n",
            "├─────┼────────────┼─────────────────────────────────┼────────────┼───────┤\n",
            "│  18 │ 2958161445 │ (5 * 2958161445) mod 4294967296 │ 2782477793 │ 0.648 │\n",
            "├─────┼────────────┼─────────────────────────────────┼────────────┼───────┤\n",
            "│  19 │ 2782477793 │ (5 * 2782477793) mod 4294967296 │   94947949 │ 0.022 │\n",
            "├─────┼────────────┼─────────────────────────────────┼────────────┼───────┤\n",
            "│  20 │   94947949 │ (5 * 94947949) mod 4294967296   │ 1323218313 │ 0.308 │\n",
            "╘═════╧════════════╧═════════════════════════════════╧════════════╧═══════╛\n"
          ]
        }
      ]
    },
    {
      "cell_type": "markdown",
      "source": [
        "1. Header Tabel\n",
        "- Fungsi: Membuat header tabel dengan nama kolom yang sesuai.\n",
        "- Format:\n",
        "\n",
        "    - {:<3}: Mengatur kolom pertama (indeks i) dengan lebar 3 karakter, rata kiri.\n",
        "    \n",
        "    - {:<28}, {:<32}, dll.: Mengatur lebar kolom berikutnya agar kolom rata dan rapi.\n",
        "- Kolom yang Ditampilkan:\n",
        "  - i: Indeks iterasi.\n",
        "  - Zi-1 (Bilangan Sebelumnya): Menampilkan bilangan sebelumnya.\n",
        "  - Rumus Zi: Formula perhitungan.\n",
        "  - Zi (Bilangan Acak): Hasil bilangan acak (𝑍𝑖).\n",
        "  - Ui (Bilangan Seragam): Hasil bilangan seragam (𝑈𝑖)."
      ],
      "metadata": {
        "id": "MXJ7IKLh-8Ow"
      }
    },
    {
      "cell_type": "markdown",
      "source": [
        "2. Pembatas Tabel\n",
        "\n",
        "  print(\"-\" * 120)\n",
        "  - Fungsi: Menambahkan garis pembatas di bawah header untuk memisahkan nama kolom dengan data.\n",
        "  - 120 Karakter: Jumlah karakter disesuaikan dengan total lebar tabel agar proporsional."
      ],
      "metadata": {
        "id": "zpa-ZzOa_zv6"
      }
    },
    {
      "cell_type": "markdown",
      "source": [
        "3. Menampilkan Data\n",
        "- for row in results: Iterasi melalui setiap baris data di daftar results.\n",
        "- Format Data:\n",
        "  - row[0]: Indeks iterasi 𝑖.\n",
        "  - row[1]: Bilangan sebelumnya 𝑍𝑖−1.\n",
        "  - row[2]: Rumus perhitungan (5⋅𝑍𝑖−1) mod 8.\n",
        "  - row[3]: Bilangan acak hasil (𝑍𝑖).\n",
        "  - row[4]: Bilangan seragam (𝑈𝑖).\n",
        "- Pengaturan Kolom:\n",
        "  - Lebar kolom diatur agar semua data rata kiri dan sejajar dengan header.-"
      ],
      "metadata": {
        "id": "uz13iQegAB-O"
      }
    }
  ]
}